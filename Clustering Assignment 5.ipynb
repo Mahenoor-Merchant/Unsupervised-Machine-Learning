{
 "cells": [
  {
   "cell_type": "markdown",
   "id": "b3e20063-0977-47f9-bead-897281c97534",
   "metadata": {},
   "source": [
    "# Clustering Assignment 5"
   ]
  },
  {
   "cell_type": "markdown",
   "id": "49040444-7784-4a39-a7e5-f3085e2cdf7f",
   "metadata": {},
   "source": [
    "### Q1. What is a contingency matrix, and how is it used to evaluate the performance of a classification model?"
   ]
  },
  {
   "attachments": {
    "43181ba1-bfed-47b1-b82b-379e2de4f16d.png": {
     "image/png": "[encoded data removed]"
    }
   },
   "cell_type": "markdown",
   "id": "2213fa1c-3d61-4228-b68e-0ecdf84da75e",
   "metadata": {},
   "source": [
    "A contingency matrix, also known as a confusion matrix, is a table that visualizes the performance of a classification model. It presents a summary of the predicted and actual classes and helps assess the model's accuracy.\n",
    "\n",
    "### Structure of a Contingency Matrix:\n",
    "\n",
    "A standard 2x2 contingency matrix looks like this:\n",
    "![image.png](attachment:43181ba1-bfed-47b1-b82b-379e2de4f16d.png)\n",
    "\n",
    "### Evaluation of Model Performance:\n",
    "\n",
    "- **True Positive (TP)**: Instances where the model correctly predicts a positive class.\n",
    "- **True Negative (TN)**: Instances where the model correctly predicts a negative class.\n",
    "- **False Positive (FP)**: Instances where the model predicts positive but the actual class is negative (Type I error).\n",
    "- **False Negative (FN)**: Instances where the model predicts negative but the actual class is positive (Type II error).\n",
    "\n",
    "### Model Evaluation Metrics Derived from Contingency Matrix:\n",
    "\n",
    "1. **Accuracy**: Overall correctness of the model (sum of TP and TN divided by total).\n",
    "2. **Precision**: Proportion of true positive predictions among all positive predictions (TP / (TP + FP)).\n",
    "3. **Recall (Sensitivity)**: Proportion of actual positives correctly predicted (TP / (TP + FN)).\n",
    "4. **Specificity**: Proportion of actual negatives correctly predicted (TN / (TN + FP)).\n",
    "5. **F1 Score**: The harmonic mean of precision and recall, balances precision and recall.\n",
    "6. **False Positive Rate (FPR)**: The ratio of false positives to actual negatives (FP / (FP + TN)).\n",
    "\n",
    "Contingency matrices are fundamental in understanding the performance of a classification model by dissecting correct and incorrect predictions, aiding in the calculation of various evaluation metrics."
   ]
  },
  {
   "cell_type": "markdown",
   "id": "88d9b7d7-fa25-4b95-8a41-03c88b33150b",
   "metadata": {},
   "source": [
    "### Q2. How is a pair confusion matrix different from a regular confusion matrix, and why might it be useful in certain situations?"
   ]
  },
  {
   "cell_type": "code",
   "execution_count": 6,
   "id": "222ff5f3-cd11-4a0e-8d22-1aa26605456b",
   "metadata": {},
   "outputs": [
    {
     "data": {
      "text/plain": [
       "array([[1, 1],\n",
       "       [1, 3]])"
      ]
     },
     "execution_count": 6,
     "metadata": {},
     "output_type": "execute_result"
    }
   ],
   "source": [
    "from sklearn.metrics import confusion_matrix\n",
    "\n",
    "true_labels = [1, 0, 1, 1, 0, 1]\n",
    "predicted_labels = [1, 1, 1, 0, 0, 1]\n",
    "\n",
    "# Creating the confusion matrix\n",
    "confusion_matrix(true_labels, predicted_labels)"
   ]
  },
  {
   "cell_type": "code",
   "execution_count": 7,
   "id": "7669130c-6bfe-474e-8506-5e199f83dd07",
   "metadata": {},
   "outputs": [
    {
     "data": {
      "text/plain": [
       "array([[8, 8],\n",
       "       [8, 6]])"
      ]
     },
     "execution_count": 7,
     "metadata": {},
     "output_type": "execute_result"
    }
   ],
   "source": [
    "from sklearn.metrics.cluster import pair_confusion_matrix\n",
    "\n",
    "\n",
    "true_labels = [1, 0, 1, 1, 0, 1]\n",
    "predicted_labels = [1, 1, 1, 0, 0, 1]\n",
    "\n",
    "pair_confusion_matrix(true_labels,predicted_labels)"
   ]
  },
  {
   "cell_type": "markdown",
   "id": "c7371934-fffa-4673-b75a-3fcace0ab128",
   "metadata": {},
   "source": [
    "## Let's understand both the matrix:\n",
    "\n",
    "## Regular Confusion Matrix\n",
    "\n",
    "The array represents a confusion matrix with a 2x2 shape. In a binary classification setting, a confusion matrix consists of four elements:\n",
    "\n",
    "- **True Positives (TP)**: Predicted as positive and actually positive.\n",
    "- **False Positives (FP)**: Predicted as positive but actually negative.\n",
    "- **True Negatives (TN)**: Predicted as negative and actually negative.\n",
    "- **False Negatives (FN)**: Predicted as negative but actually positive.\n",
    "\n",
    "In this case:\n",
    "\n",
    "- The top-left element (1) represents the count of True Negatives (TN).\n",
    "- The top-right element (1) represents the count of False Positives (FP).\n",
    "- The bottom-left element (1) represents the count of False Negatives (FN).\n",
    "- The bottom-right element (3) represents the count of True Positives (TP).\n",
    "\n",
    "This matrix suggests the following classification performance:\n",
    "\n",
    "- The model correctly predicted the negative class (0 or \"not the target class\") 1 time.\n",
    "- The model incorrectly predicted the positive class (1 or \"the target class\") 1 time while it was not.\n",
    "- The model incorrectly predicted the negative class 1 time when it was actually the positive class.\n",
    "- The model correctly predicted the positive class 3 times.\n",
    "\n",
    "## Pair Confusion Matrix\n",
    "\n",
    "- **Top-Left (Element at [0, 0]):** This value (8) represents the count of true negatives (TN), instances where the model correctly predicts the first class (let's call it class A) when the true label is not class A.\n",
    "\n",
    "- **Top-Right (Element at [0, 1]):** This value (8) represents the count of false positives (FP), instances where the model predicts class A but the true label is not class A.\n",
    "\n",
    "- **Bottom-Left (Element at [1, 0]):** This value (8) represents the count of false negatives (FN), instances where the model predicts a non-class A when the true label is class A.\n",
    "\n",
    "- **Bottom-Right (Element at [1, 1]):** This value (6) represents the count of true positives (TP), instances where the model correctly predicts class A.\n",
    "\n",
    "In this context, assuming class A is represented by the row/column index 0 and the other class by index 1, the pair confusion matrix indicates that:\n",
    "\n",
    "- The model correctly identified the non-class A instances 8 times.\n",
    "- The model correctly identified class A instances 6 times.\n",
    "- The model misclassified 8 non-class A instances as class A.\n",
    "- The model misclassified 8 class A instances as non-class A.\n"
   ]
  },
  {
   "cell_type": "markdown",
   "id": "a55d5090-aa50-404e-be98-0353fc4a51de",
   "metadata": {},
   "source": [
    "### Q3. What is an extrinsic measure in the context of natural language processing, and how is it typically used to evaluate the performance of language models?"
   ]
  },
  {
   "cell_type": "markdown",
   "id": "d5b6d86b-e229-41cb-bcb5-783b21e4522e",
   "metadata": {},
   "source": [
    "Extrinsic measures evaluate a model’s performance based on its performance in real-world applications or specific tasks rather than assessing the model in isolation. These measures are task-specific and consider the model's performance in an end-use case scenario, which often involves complex NLP tasks like sentiment analysis, machine translation, named entity recognition, question answering, text summarization, and more.\n",
    "\n",
    "These measures rely on task-specific evaluation criteria and metrics. For instance:\n",
    "\n",
    "1. **Accuracy:** Measures how many instances the model correctly predicts in classification tasks.\n",
    "2. **Precision and Recall:** Commonly used in information retrieval tasks, precision is the fraction of retrieved instances that are relevant, while recall measures the fraction of relevant instances that are retrieved.\n",
    "3. **F1 Score:** Harmonic mean of precision and recall, often used when both precision and recall are important for a task.\n"
   ]
  },
  {
   "cell_type": "markdown",
   "id": "12b8dd0b-6e68-4806-aaa3-0874ece639ee",
   "metadata": {},
   "source": [
    "### Q4. What is an intrinsic measure in the context of machine learning, and how does it differ from an extrinsic measure?"
   ]
  },
  {
   "cell_type": "markdown",
   "id": "e5ba15c8-3bae-49e5-a51c-ecc5f9bd5afa",
   "metadata": {},
   "source": [
    "In the world of machine learning:\n",
    "\n",
    "### Intrinsic Measures:\n",
    "check how good a model is by looking at its own performance internally. It's like checking if a car's engine runs smoothly without actually driving the car.\n",
    "\n",
    "Common intrinsic measures in various machine learning tasks include metrics like:\n",
    "\n",
    "* Silhouette Score in Clustering: Measures how well-separated clusters are and how similar the samples are within the same cluster compared to others.\n",
    "* Davies-Bouldin Index in Clustering: Measures the average \"similarity\" between each cluster and its most similar one, where lower values indicate better clustering.\n",
    "* Mean Squared Error (MSE) in Regression: Measures the average squared differences between predicted and actual values.\n",
    "\n",
    "### Extrinsic Measures:\n",
    "test how well a model solves real tasks, like predicting if an email is spam or not. It's like actually driving the car to see how well it handles on the road.\n",
    "\n",
    "So, intrinsic measures focus on the model's own performance, while extrinsic measures see how well the model performs in real tasks or applications."
   ]
  },
  {
   "cell_type": "markdown",
   "id": "37d01fda-2466-4e9b-a14c-603bbbfc6694",
   "metadata": {},
   "source": [
    "### Q5. What is the purpose of a confusion matrix in machine learning, and how can it be used to identify strengths and weaknesses of a model?"
   ]
  },
  {
   "cell_type": "markdown",
   "id": "ece18ffa-7949-46a2-956b-530142018a63",
   "metadata": {},
   "source": [
    "The confusion matrix in machine learning is used to:\n",
    "\n",
    "- **Purpose:** Summarize the performance of a classification model by presenting the count of true positives, true negatives, false positives, and false negatives.\n",
    "\n",
    "- **Identifying Strengths and Weaknesses:** It helps in understanding a model's performance by highlighting its strengths and weaknesses. For instance:\n",
    "    - **Strengths:** High counts in the true positive and true negative cells indicate the model's ability to correctly classify instances.\n",
    "    - **Weaknesses:** High false positive and false negative counts reveal areas where the model is making mistakes, such as misclassifying instances.\n",
    "\n",
    "In short, the confusion matrix provides a clear snapshot of a model's performance, allowing for an easy identification of its strengths and weaknesses in classification tasks."
   ]
  },
  {
   "cell_type": "markdown",
   "id": "6a52a3d5-5583-4308-8747-712947e76f67",
   "metadata": {},
   "source": [
    "### Q6. What are some common intrinsic measures used to evaluate the performance of unsupervised learning algorithms, and how can they be interpreted?"
   ]
  },
  {
   "cell_type": "markdown",
   "id": "a7b72b14-76c5-4c91-815e-9ace22c5ce0c",
   "metadata": {},
   "source": [
    "\n",
    "1. **Silhouette Score:** The silhouette score measures how similar an object is to its own cluster (cohesion) compared to other clusters (separation). It calculates the average silhouette of all samples. The silhouette score ranges from -1 to 1. A score close to +1 indicates that the sample is well-clustered and lies far from neighboring clusters. A score near 0 implies overlapping clusters, where it's on the boundary. A negative score suggests that samples might be assigned to the wrong cluster.\n",
    "\n",
    "2. **Davies-Bouldin Index:** The Davies-Bouldin index measures the average similarity between each cluster and its most similar one. It considers both the size and dispersion of clusters. Lower index values indicate better clustering. A value closer to 0 represents good separation and distinct clusters.\n"
   ]
  },
  {
   "cell_type": "markdown",
   "id": "e015aaae-aa3e-4e9c-ae3c-c7a0e6e3d503",
   "metadata": {},
   "source": [
    "### Q7. What are some limitations of using accuracy as a sole evaluation metric for classification tasks, and how can these limitations be addressed?"
   ]
  },
  {
   "cell_type": "markdown",
   "id": "2c639e46-9127-4122-b9fb-a3b7fdee92c5",
   "metadata": {},
   "source": [
    "| **Limitations of Accuracy** | **Addressing these Limitations** |\n",
    "|----------------------------|----------------------------------|\n",
    "| Imbalanced Datasets         | - Precision and Recall <br> - F1 Score <br> - Confusion Matrix Analysis |\n",
    "| Ignoring Class Distribution  | - Precision and Recall <br> - F1 Score <br> - ROC Curve and AUC |\n",
    "| Equal Cost Fallacy           | - Cost-Sensitive Evaluation |\n"
   ]
  },
  {
   "cell_type": "markdown",
   "id": "5e97c4ab-45d9-4871-b020-e4f3ae16ebfe",
   "metadata": {},
   "source": [
    "## The End"
   ]
  }
 ],
 "metadata": {
  "kernelspec": {
   "display_name": "Python 3 (ipykernel)",
   "language": "python",
   "name": "python3"
  },
  "language_info": {
   "codemirror_mode": {
    "name": "ipython",
    "version": 3
   },
   "file_extension": ".py",
   "mimetype": "text/x-python",
   "name": "python",
   "nbconvert_exporter": "python",
   "pygments_lexer": "ipython3",
   "version": "3.10.8"
  }
 },
 "nbformat": 4,
 "nbformat_minor": 5
}
