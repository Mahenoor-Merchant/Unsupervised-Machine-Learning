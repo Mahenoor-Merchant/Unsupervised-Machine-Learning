{
 "cells": [
  {
   "cell_type": "markdown",
   "id": "f33cc702-c3ee-45b7-9b82-85e69c66e430",
   "metadata": {},
   "source": [
    "# Anomaly Detection Assignment 1"
   ]
  },
  {
   "cell_type": "markdown",
   "id": "eee17fa2-2ae0-4843-86ee-b44be6d0fbf2",
   "metadata": {},
   "source": [
    "\n",
    "### Q1. What is anomaly detection and what is its purpose?\n",
    "Anomaly detection, often referred to as outlier detection, is a critical technique in data analysis aimed at identifying rare or exceptional instances that significantly differ from the majority of the dataset. These anomalies can represent unique information, errors, or potential threats. The main purpose of anomaly detection is to uncover these unusual patterns that do not conform to expected behaviors in a dataset. This process is crucial in various domains such as finance for fraud detection, cybersecurity for intrusion detection, healthcare for disease outbreak identification, manufacturing for quality control, and many more.\n",
    "\n",
    "Anomalies can take various forms, including point anomalies (individual instances that are anomalous), contextual anomalies (instances considered anomalous in a specific context), and collective anomalies (groups of instances that are collectively anomalous). Detecting these anomalies involves statistical analysis, machine learning, and various other computational techniques.\n",
    "\n",
    "### Q2. What are the key challenges in anomaly detection?\n",
    "1. **Unlabeled Data:** Anomaly detection often deals with datasets lacking explicit labels for anomalies. This makes it challenging to train models as they typically require labeled data for supervised learning.\n",
    "2. **Imbalanced Data:** Anomalies are typically rare compared to normal instances, leading to imbalanced datasets. This imbalance can affect the performance of models trained on such data.\n",
    "3. **High Dimensionality:** High-dimensional data poses challenges due to the curse of dimensionality, making it difficult to identify anomalies effectively.\n",
    "4. **Dynamic Nature of Data:** Real-time data streams or evolving datasets pose challenges in adapting to changing anomalies.\n",
    "5. **Interpretability:** Understanding why a particular instance is flagged as an anomaly by the model can be complex, especially with sophisticated algorithms that lack interpretability.\n",
    "\n",
    "### Q3. How does unsupervised anomaly detection differ from supervised anomaly detection?\n",
    "- **Unsupervised Anomaly Detection:** This method does not rely on labeled data. Instead, it identifies anomalies by recognizing patterns that deviate significantly from the norm within the dataset itself. Common unsupervised techniques include clustering-based approaches like K-means, density-based methods like Local Outlier Factor (LOF), and isolation-based methods like Isolation Forest.\n",
    "- **Supervised Anomaly Detection:** In contrast, supervised techniques require labeled data where anomalies are explicitly identified. These models are trained using examples of both normal and anomalous data. Common supervised methods include support vector machines (SVM), decision trees, and k-nearest neighbors (KNN).\n",
    "\n",
    "### Q4. What are the main categories of anomaly detection algorithms?\n",
    "- **Statistical Methods:** These algorithms use statistical techniques to identify anomalies, such as Z-score, Grubbs' test, and statistical hypothesis testing methods.\n",
    "- **Machine Learning-Based Methods:** These algorithms leverage machine learning techniques to identify anomalies, including Isolation Forest, One-Class SVM, and k-Nearest Neighbors (KNN).\n",
    "- **Proximity-Based Methods:** These algorithms measure the proximity of data points and include methods like Local Outlier Factor (LOF) and k-means clustering.\n",
    "- **Ensemble Methods:** Ensemble techniques like Isolation Forest and Random Cut Forest combine multiple models to enhance anomaly detection.\n",
    "\n",
    "### Q5. What are the main assumptions made by distance-based anomaly detection methods?\n",
    "Distance-based anomaly detection methods assume that anomalies differ significantly in their distance or density from the majority of the data points. Anomalies are expected to have considerably greater distances or lower densities compared to normal instances. These methods identify anomalies by computing the distance or density of a data point in relation to its neighbors or the overall dataset.\n",
    "\n",
    "### Q6. How does the LOF algorithm compute anomaly scores?\n",
    "The Local Outlier Factor (LOF) algorithm calculates anomaly scores based on the local density of a data point concerning its neighbors. It compares the density of a point with the densities of its neighbors. A data point is considered an anomaly if its density significantly differs from the densities of its neighbors. The LOF score reflects the degree of outlier-ness: a higher LOF score implies a higher likelihood of being an outlier.\n",
    "\n",
    "### Q7. What are the key parameters of the Isolation Forest algorithm?\n",
    "The Isolation Forest algorithm's key parameters include:\n",
    "- **Number of Trees (n_estimators):** Determines the number of trees to be built in the forest. Increasing the number of trees can improve the model's accuracy but might also increase computational complexity.\n",
    "- **Max Samples:** It determines the number of samples to draw when building each tree. Adjusting this parameter can affect the model's performance and memory usage.\n",
    "- **Contamination:** This parameter signifies the expected proportion of anomalies in the dataset. It affects the model's ability to separate anomalies from normal instances.\n",
    "\n",
    "### Q8. If a data point has only 2 neighbors of the same class within a radius of 0.5, what is its anomaly score using KNN with K=10?\n",
    "In the context of KNN anomaly detection, the anomaly score is typically based on the distance to its K-nearest neighbors. If a data point has only 2 neighbors of the same class within a radius of 0.5 in a KNN model with K=10, this data point may have a high anomaly score. The fact that it has only 2 neighbors within the specified radius indicates that it's isolated, making it more likely to be considered an anomaly.\n",
    "\n",
    "### Q9. Using the Isolation Forest algorithm with 100 trees and a dataset of 3000 data points, what is the anomaly score for a data point that has an average path length of 5.0 compared to the average path length of the trees?\n",
    "In the Isolation Forest algorithm, an anomaly tends to have a shorter average path length than normal instances. The average path length signifies how quickly an instance is isolated in the tree. If a data point has an average path length of 5.0, which is relatively higher compared to the average path length of the trees, it implies that this particular point took more splits on average to isolate. Consequently, its anomaly score might be relatively lower compared to the average anomaly score. However, the precise calculation would depend on the distribution and characteristics of the data, and whether a shorter or longer path length is more anomalous in the specific dataset.\n"
   ]
  },
  {
   "cell_type": "markdown",
   "id": "d0bafabd-0d73-45c2-950d-cc58e9f44f40",
   "metadata": {},
   "source": [
    "## The End"
   ]
  }
 ],
 "metadata": {
  "kernelspec": {
   "display_name": "Python 3 (ipykernel)",
   "language": "python",
   "name": "python3"
  },
  "language_info": {
   "codemirror_mode": {
    "name": "ipython",
    "version": 3
   },
   "file_extension": ".py",
   "mimetype": "text/x-python",
   "name": "python",
   "nbconvert_exporter": "python",
   "pygments_lexer": "ipython3",
   "version": "3.10.8"
  }
 },
 "nbformat": 4,
 "nbformat_minor": 5
}
